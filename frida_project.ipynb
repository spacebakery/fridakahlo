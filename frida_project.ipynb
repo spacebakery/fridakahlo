{
 "cells": [
  {
   "cell_type": "markdown",
   "metadata": {},
   "source": [
    "# Frida Kahlo Exhibition\n",
    "\n",
    "You've been hired to work on a retrospective of Frida Kahlo's work at a major museum. Your job is to put together the audio tour, but in order to do that you need to create a list of each painting featured in the exhibit, the date it was painted, and its spot in the tour. \n",
    "\n",
    "Use your knowledge of Python lists to create a master list of each painting, its date, and its audio tour ID. \n"
   ]
  },
  {
   "cell_type": "markdown",
   "metadata": {},
   "source": [
    "## Task 1\n",
    "First, create a list called `paintings` and add the following titles to it:\n",
    "\n",
    "`The Two Fridas, My Dress Hangs Here, Tree of Hope, Self Portrait With Monkeys`\n"
   ]
  },
  {
   "cell_type": "code",
   "execution_count": 41,
   "metadata": {
    "collapsed": true
   },
   "outputs": [
    {
     "data": {
      "text/plain": [
       "['The Two Fridas',\n",
       " 'My Dress Hangs Here',\n",
       " 'Tree of Hope',\n",
       " 'Self Portrait With Monkeys']"
      ]
     },
     "execution_count": 41,
     "metadata": {},
     "output_type": "execute_result"
    }
   ],
   "source": [
    "# Painting Titles\n",
    "paintings = ['The Two Fridas', 'My Dress Hangs Here', 'Tree of Hope', 'Self Portrait With Monkeys']\n",
    "paintings"
   ]
  },
  {
   "cell_type": "markdown",
   "metadata": {},
   "source": [
    "## Task 2\n",
    "\n",
    "Next, create a second list called `dates` and give it the following values:\n",
    "`1939, 1933, 1946, 1940`"
   ]
  },
  {
   "cell_type": "code",
   "execution_count": 42,
   "metadata": {
    "collapsed": true
   },
   "outputs": [
    {
     "data": {
      "text/plain": [
       "[1939, 1933, 1946, 1940]"
      ]
     },
     "execution_count": 42,
     "metadata": {},
     "output_type": "execute_result"
    }
   ],
   "source": [
    "# Painting dates\n",
    "dates = [1939, 1933, 1946, 1940]\n",
    "dates"
   ]
  },
  {
   "cell_type": "markdown",
   "metadata": {},
   "source": [
    "## Task 3 \n",
    "It doesn't do much good to have the paintings without their dates, and vice versa. \n",
    "Zip together the two lists so that each painting is paired with its date and resave it to the `paintings` variable. Make sure to convert the zipped object into a list using the `list()` function. Print the results to the terminal to check your work. "
   ]
  },
  {
   "cell_type": "code",
   "execution_count": 43,
   "metadata": {
    "collapsed": true
   },
   "outputs": [
    {
     "data": {
      "text/plain": [
       "[('The Two Fridas', 1939),\n",
       " ('My Dress Hangs Here', 1933),\n",
       " ('Tree of Hope', 1946),\n",
       " ('Self Portrait With Monkeys', 1940)]"
      ]
     },
     "execution_count": 43,
     "metadata": {},
     "output_type": "execute_result"
    }
   ],
   "source": [
    "# combining paintings and dates of the paintings\n",
    "paintings = list(zip(paintings, dates))\n",
    "paintings"
   ]
  },
  {
   "cell_type": "markdown",
   "metadata": {},
   "source": [
    "## Task 4\n",
    "There were some last minute additions to the show that we need to add to our list. Append the following paintings to our `paintings` list then re-print to check they were added correctly:\n",
    "- 'The Broken Column', 1944\n",
    "- 'The Wounded Deer', 1946\n",
    "- 'Me and My Doll', 1937\n",
    "\n",
    "Hint: Make sure to append each painting individually and that you're appending them as tuples, not lists. "
   ]
  },
  {
   "cell_type": "code",
   "execution_count": 44,
   "metadata": {
    "collapsed": true
   },
   "outputs": [
    {
     "data": {
      "text/plain": [
       "[('The Two Fridas', 1939),\n",
       " ('My Dress Hangs Here', 1933),\n",
       " ('Tree of Hope', 1946),\n",
       " ('Self Portrait With Monkeys', 1940),\n",
       " ('The Broken Column', 1944),\n",
       " ('The Wounded Deer', 1946),\n",
       " ('Me and My Doll', 1937)]"
      ]
     },
     "execution_count": 44,
     "metadata": {},
     "output_type": "execute_result"
    }
   ],
   "source": [
    "# appending extra paintings\n",
    "paintings.append(('The Broken Column', 1944))\n",
    "paintings.append(('The Wounded Deer', 1946))\n",
    "paintings.append(('Me and My Doll', 1937))\n",
    "paintings"
   ]
  },
  {
   "cell_type": "markdown",
   "metadata": {},
   "source": [
    "## Task 5\n",
    "Since each of these paintings is going to be in the audio tour, they each need a unique identification number.\n",
    "But before we assign them a number, we first need to check how many paintings there are in total.\n",
    "\n",
    "Find the length of the `paintings` list."
   ]
  },
  {
   "cell_type": "code",
   "execution_count": 45,
   "metadata": {
    "collapsed": true
   },
   "outputs": [
    {
     "name": "stdout",
     "output_type": "stream",
     "text": [
      "Items on the list: 7\n"
     ]
    }
   ],
   "source": [
    "# how many items are in the list?\n",
    "print(f'Items on the list:', len(paintings))"
   ]
  },
  {
   "cell_type": "markdown",
   "metadata": {},
   "source": [
    "## Task 6\n",
    "Use the `range` method to generate a list of identification numbers that starts at 1 and is equal in length to our list of items. \n",
    "Save the list to the variable `audio_tour_number` and check your work by printing the list."
   ]
  },
  {
   "cell_type": "code",
   "execution_count": 46,
   "metadata": {
    "collapsed": true
   },
   "outputs": [
    {
     "name": "stdout",
     "output_type": "stream",
     "text": [
      "Number of audio tours: [1, 2, 3, 4, 5, 6, 7]\n"
     ]
    }
   ],
   "source": [
    "# output the list numbers as list\n",
    "audio_tour_number = list(range(1, len(paintings)+1))\n",
    "print('Number of audio tours:', audio_tour_number)"
   ]
  },
  {
   "cell_type": "markdown",
   "metadata": {},
   "source": [
    "## Task 7 \n",
    "\n",
    "We're finally read to create our master list. \n",
    "Zip the `audio_tour_number` list to the `paintings` list and save it as `master_list`.\n",
    "\n",
    "Hint: Make sure to convert the zipped object into a list using the `list()` function."
   ]
  },
  {
   "cell_type": "code",
   "execution_count": 47,
   "metadata": {
    "collapsed": true
   },
   "outputs": [
    {
     "name": "stdout",
     "output_type": "stream",
     "text": [
      "List of paitings: [(1, ('The Two Fridas', 1939)), (2, ('My Dress Hangs Here', 1933)), (3, ('Tree of Hope', 1946)), (4, ('Self Portrait With Monkeys', 1940)), (5, ('The Broken Column', 1944)), (6, ('The Wounded Deer', 1946)), (7, ('Me and My Doll', 1937))]\n"
     ]
    }
   ],
   "source": [
    "# Making numbered list of paintings\n",
    "master_list = list(zip(audio_tour_number, paintings))\n",
    "print('List of paitings:', master_list)"
   ]
  },
  {
   "cell_type": "markdown",
   "metadata": {},
   "source": [
    "## Task 8 \n",
    "Print the `master_list` to the terminal."
   ]
  },
  {
   "cell_type": "code",
   "execution_count": 49,
   "metadata": {
    "collapsed": true
   },
   "outputs": [
    {
     "name": "stdout",
     "output_type": "stream",
     "text": [
      "List of paitings:\n",
      "(1, ('The Two Fridas', 1939))\n",
      "(2, ('My Dress Hangs Here', 1933))\n",
      "(3, ('Tree of Hope', 1946))\n",
      "(4, ('Self Portrait With Monkeys', 1940))\n",
      "(5, ('The Broken Column', 1944))\n",
      "(6, ('The Wounded Deer', 1946))\n",
      "(7, ('Me and My Doll', 1937))\n"
     ]
    }
   ],
   "source": [
    "# Print each item\n",
    "# print(master_list)\n",
    "print('List of paitings:')\n",
    "for i in master_list:\n",
    "    print(i)"
   ]
  }
 ],
 "metadata": {
  "kernelspec": {
   "display_name": "Python 3",
   "language": "python",
   "name": "python3"
  },
  "language_info": {
   "codemirror_mode": {
    "name": "ipython",
    "version": 3
   },
   "file_extension": ".py",
   "mimetype": "text/x-python",
   "name": "python",
   "nbconvert_exporter": "python",
   "pygments_lexer": "ipython3",
   "version": "3.12.2"
  }
 },
 "nbformat": 4,
 "nbformat_minor": 2
}
